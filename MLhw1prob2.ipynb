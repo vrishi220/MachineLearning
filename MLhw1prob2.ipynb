{
  "nbformat": 4,
  "nbformat_minor": 0,
  "metadata": {
    "colab": {
      "name": "MLhw1prob2.ipynb",
      "version": "0.3.2",
      "provenance": [],
      "include_colab_link": true
    },
    "kernelspec": {
      "name": "python3",
      "display_name": "Python 3"
    }
  },
  "cells": [
    {
      "cell_type": "markdown",
      "metadata": {
        "id": "view-in-github",
        "colab_type": "text"
      },
      "source": [
        "<a href=\"https://colab.research.google.com/github/vrishi220/MachineLearning/blob/master/MLhw1prob2.ipynb\" target=\"_parent\"><img src=\"https://colab.research.google.com/assets/colab-badge.svg\" alt=\"Open In Colab\"/></a>"
      ]
    },
    {
      "metadata": {
        "id": "MTbVKVooBRjd",
        "colab_type": "code",
        "outputId": "95400d30-64c1-4dc3-df73-f2e37eef80e4",
        "colab": {
          "base_uri": "https://localhost:8080/",
          "height": 1214
        }
      },
      "cell_type": "code",
      "source": [
        "from keras.datasets import mnist\n",
        "from keras.utils import np_utils\n",
        "import matplotlib.pyplot as plt\n",
        "import numpy as np\n",
        "\n",
        "# Reshape the training and testing data of a single dimension by 28*28. \n",
        "# Then the values of the reshaped vector are taken as float32 values for the ease of readability.\n",
        "# Then the values are divided by 255 (max count for colors) so as to make all values withiin 0 to 1.\n",
        "def reshapeAndReduce(X,i,): return X.reshape(X.shape[0], i).astype('float32')/255\n",
        "\n",
        "# Loading mnist data\n",
        "(X_train, y_train), (X_test, y_test) = mnist.load_data()\n",
        "\n",
        "#Setting default variables\n",
        "rate, batch_size, classes_size, epochs, input_size, final  = 0.005, 10, 10, 50, 28**2, []\n",
        "\n",
        "# Reshape the training and test data.\n",
        "X_train, X_test = reshapeAndReduce(X_train, input_size), reshapeAndReduce(X_test, input_size)\n",
        "\n",
        "# Convert class vector to binary class matrix, for use with categorical_crossentropy.\n",
        "Y_train, Y_test = np_utils.to_categorical(y_train, classes_size), np_utils.to_categorical(y_test, classes_size)\n",
        "\n",
        "# Generate the initial weights for the neural network: 10 X 784\n",
        "Weight = np.random.randn(classes_size, input_size) * 0.01\n",
        "\n",
        "# Generate the initial bases which will be used in the neural nets: 10 X 1\n",
        "Base = np.random.randn(classes_size, 1)\n",
        "\n",
        "# For each epoch\n",
        "for epoch in range(epochs):\n",
        "  \n",
        "  # Initialize accuracy to 0\n",
        "  acc = 0\n",
        "  \n",
        "  # Increment ea h batch at the batch_size from 0 to X_train.shape[0] (60000)\n",
        "  for inc in range(0, X_train.shape[0], batch_size):\n",
        "    \n",
        "    # Set the current batch from the training and testing data\n",
        "    x, y = X_train[inc:inc+batch_size], Y_train[inc:inc+batch_size]\n",
        "    \n",
        "    # Apply the sigmoid activation function to the mini batch of data (x)\n",
        "    output = 1/(1+np.exp(-1*(np.dot(Weight, np.transpose(x))+(Base))))\n",
        "    \n",
        "    # Apply the sigmoid function on the activated output to retrieve the new value    \n",
        "    sig = (1/(1+np.exp(-1*output))) - (1/((1+np.exp(-1*output))**2))\n",
        "    \n",
        "    # Apply the loss function to get the new weight matrix using binary cross entropy loss\n",
        "    Weight -= rate*np.dot((output - np.transpose(y)), x)\n",
        "    \n",
        "    # Apply the loss function to get the new base vector matrix using binary cross entropy loss  \n",
        "    Base -= rate*np.sum((output - np.transpose(y)), axis=1, keepdims=True)\n",
        "\n",
        "  # Run the activation function on the test data\n",
        "  output = np.transpose(1/(1+np.exp(-1*(np.dot(Weight,np.transpose(X_test))+(Base)))))\n",
        "  \n",
        "  # Iterate through all the test entries\n",
        "  for test_epoch in range(Y_test.shape[0]): \n",
        "\n",
        "    # increment acc variable each time a match of the expected and actual outcomes\n",
        "    if np.argmax(output[test_epoch]) == y_test[test_epoch]: acc += 1\n",
        "      \n",
        "  # Print accuracy for each output\n",
        "  print('Epoch {}: {}%'.format(epoch+1, acc*0.01))\n",
        "  \n",
        "  # Add scores to final list for plotting\n",
        "  final.append(acc*0.01)\n",
        "  \n",
        "# Plot accuracy based on final list entries\n",
        "plt.plot(final,label='Accuracy'); plt.legend()"
      ],
      "execution_count": 6,
      "outputs": [
        {
          "output_type": "stream",
          "text": [
            "Epoch 1: 90.3%\n",
            "Epoch 2: 90.75%\n",
            "Epoch 3: 90.96000000000001%\n",
            "Epoch 4: 91.04%\n",
            "Epoch 5: 91.07000000000001%\n",
            "Epoch 6: 91.02%\n",
            "Epoch 7: 91.08%\n",
            "Epoch 8: 91.10000000000001%\n",
            "Epoch 9: 91.11%\n",
            "Epoch 10: 91.16%\n",
            "Epoch 11: 91.17%\n",
            "Epoch 12: 91.18%\n",
            "Epoch 13: 91.22%\n",
            "Epoch 14: 91.28%\n",
            "Epoch 15: 91.29%\n",
            "Epoch 16: 91.31%\n",
            "Epoch 17: 91.27%\n",
            "Epoch 18: 91.35000000000001%\n",
            "Epoch 19: 91.38%\n",
            "Epoch 20: 91.4%\n",
            "Epoch 21: 91.41%\n",
            "Epoch 22: 91.39%\n",
            "Epoch 23: 91.41%\n",
            "Epoch 24: 91.43%\n",
            "Epoch 25: 91.41%\n",
            "Epoch 26: 91.41%\n",
            "Epoch 27: 91.41%\n",
            "Epoch 28: 91.42%\n",
            "Epoch 29: 91.41%\n",
            "Epoch 30: 91.39%\n",
            "Epoch 31: 91.39%\n",
            "Epoch 32: 91.4%\n",
            "Epoch 33: 91.41%\n",
            "Epoch 34: 91.42%\n",
            "Epoch 35: 91.44%\n",
            "Epoch 36: 91.45%\n",
            "Epoch 37: 91.46000000000001%\n",
            "Epoch 38: 91.43%\n",
            "Epoch 39: 91.42%\n",
            "Epoch 40: 91.4%\n",
            "Epoch 41: 91.39%\n",
            "Epoch 42: 91.38%\n",
            "Epoch 43: 91.38%\n",
            "Epoch 44: 91.37%\n",
            "Epoch 45: 91.4%\n",
            "Epoch 46: 91.4%\n",
            "Epoch 47: 91.39%\n",
            "Epoch 48: 91.4%\n",
            "Epoch 49: 91.4%\n",
            "Epoch 50: 91.41%\n"
          ],
          "name": "stdout"
        },
        {
          "output_type": "execute_result",
          "data": {
            "text/plain": [
              "<matplotlib.legend.Legend at 0x7f0b1e7480b8>"
            ]
          },
          "metadata": {
            "tags": []
          },
          "execution_count": 6
        },
        {
          "output_type": "display_data",
          "data": {
            "image/png": "[encoded data removed]",
            "text/plain": [
              "<Figure size 576x396 with 1 Axes>"
            ]
          },
          "metadata": {
            "tags": []
          }
        }
      ]
    }
  ]
}