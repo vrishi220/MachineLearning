{
  "nbformat": 4,
  "nbformat_minor": 0,
  "metadata": {
    "colab": {
      "name": "MLhw1prob2.ipynb",
      "version": "0.3.2",
      "provenance": [],
      "include_colab_link": true
    },
    "kernelspec": {
      "name": "python3",
      "display_name": "Python 3"
    }
  },
  "cells": [
    {
      "cell_type": "markdown",
      "metadata": {
        "id": "view-in-github",
        "colab_type": "text"
      },
      "source": [
        "<a href=\"https://colab.research.google.com/github/vrishi220/MachineLearning/blob/master/MLhw1prob2.ipynb\" target=\"_parent\"><img src=\"https://colab.research.google.com/assets/colab-badge.svg\" alt=\"Open In Colab\"/></a>"
      ]
    },
    {
      "metadata": {
        "id": "MTbVKVooBRjd",
        "colab_type": "code",
        "colab": {
          "base_uri": "https://localhost:8080/",
          "height": 918
        },
        "outputId": "dd20f141-28d1-43f8-b608-beb5d186118b"
      },
      "cell_type": "code",
      "source": [
        "import numpy as np\n",
        "import math\n",
        "from keras.datasets import mnist\n",
        "from keras.utils import np_utils\n",
        "\n",
        "rate, batch_size, classes_size, runs, input_size  = 0.005, 10, 10, 50, 28**2\n",
        "\n",
        "(X_train, y_train), (X_test, y_test) = mnist.load_data()\n",
        "\n",
        "X_train, X_test = (X_train.reshape(X_train.shape[0], input_size)).astype('float32')/255, (X_test.reshape(X_test.shape[0], input_size)).astype('float32')/255\n",
        "Y_train, Y_test = (np_utils.to_categorical(y_train, classes_size)), (np_utils.to_categorical(y_test, classes_size))\n",
        "\n",
        "Weight = np.random.randn(classes_size, input_size) * 0.01\n",
        "Base = np.random.randn(classes_size, 1)\n",
        "for run in range(runs):\n",
        "  acc = 0\n",
        "  for inc in range(0, X_train.shape[0], batch_size):\n",
        "    x, y = X_train[inc:inc+batch_size], Y_train[inc:inc+batch_size]\n",
        "    \n",
        "    output = 1/(1+np.exp(-1*(np.dot(Weight, np.transpose(x))+(Base))))\n",
        "    sig = (1/(1+np.exp(-1*output))) - (1/((1+np.exp(-1*output))**2))\n",
        "    Weight -= rate*np.dot((output - np.transpose(y)), x)\n",
        "    Base -= rate*np.sum((output - np.transpose(y)), axis=1, keepdims=True)\n",
        "    \n",
        "  output = np.transpose(1/(1+np.exp(-1*(np.dot(Weight,np.transpose(X_test))+(Base)))))\n",
        "  for test_epoch in range(Y_test.shape[0]): \n",
        "    if np.argmax(output[test_epoch]) == y_test[test_epoch]: acc += 1\n",
        "  print('Epoch {}: {}%'.format(run+1, acc*0.01))"
      ],
      "execution_count": 1,
      "outputs": [
        {
          "output_type": "stream",
          "text": [
            "Using TensorFlow backend.\n"
          ],
          "name": "stderr"
        },
        {
          "output_type": "stream",
          "text": [
            "Downloading data from https://s3.amazonaws.com/img-datasets/mnist.npz\n",
            "11493376/11490434 [==============================] - 0s 0us/step\n",
            "Epoch 1: 90.25%\n",
            "Epoch 2: 90.77%\n",
            "Epoch 3: 90.97%\n",
            "Epoch 4: 91.07000000000001%\n",
            "Epoch 5: 91.09%\n",
            "Epoch 6: 91.03%\n",
            "Epoch 7: 91.06%\n",
            "Epoch 8: 91.10000000000001%\n",
            "Epoch 9: 91.15%\n",
            "Epoch 10: 91.17%\n",
            "Epoch 11: 91.17%\n",
            "Epoch 12: 91.2%\n",
            "Epoch 13: 91.21000000000001%\n",
            "Epoch 14: 91.26%\n",
            "Epoch 15: 91.27%\n",
            "Epoch 16: 91.28%\n",
            "Epoch 17: 91.31%\n",
            "Epoch 18: 91.31%\n",
            "Epoch 19: 91.36%\n",
            "Epoch 20: 91.39%\n",
            "Epoch 21: 91.39%\n",
            "Epoch 22: 91.38%\n",
            "Epoch 23: 91.41%\n",
            "Epoch 24: 91.42%\n",
            "Epoch 25: 91.42%\n",
            "Epoch 26: 91.41%\n",
            "Epoch 27: 91.41%\n",
            "Epoch 28: 91.42%\n",
            "Epoch 29: 91.38%\n",
            "Epoch 30: 91.38%\n",
            "Epoch 31: 91.4%\n",
            "Epoch 32: 91.39%\n",
            "Epoch 33: 91.42%\n",
            "Epoch 34: 91.42%\n",
            "Epoch 35: 91.43%\n",
            "Epoch 36: 91.44%\n",
            "Epoch 37: 91.44%\n",
            "Epoch 38: 91.41%\n",
            "Epoch 39: 91.4%\n",
            "Epoch 40: 91.39%\n",
            "Epoch 41: 91.37%\n",
            "Epoch 42: 91.36%\n",
            "Epoch 43: 91.37%\n",
            "Epoch 44: 91.36%\n",
            "Epoch 45: 91.37%\n",
            "Epoch 46: 91.38%\n",
            "Epoch 47: 91.38%\n",
            "Epoch 48: 91.39%\n",
            "Epoch 49: 91.41%\n",
            "Epoch 50: 91.41%\n"
          ],
          "name": "stdout"
        }
      ]
    }
  ]
}