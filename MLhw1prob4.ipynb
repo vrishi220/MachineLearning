{
  "nbformat": 4,
  "nbformat_minor": 0,
  "metadata": {
    "colab": {
      "name": "MLhw1prob4.ipynb",
      "version": "0.3.2",
      "provenance": [],
      "collapsed_sections": [],
      "include_colab_link": true
    },
    "kernelspec": {
      "name": "python3",
      "display_name": "Python 3"
    }
  },
  "cells": [
    {
      "cell_type": "markdown",
      "metadata": {
        "id": "view-in-github",
        "colab_type": "text"
      },
      "source": [
        "<a href=\"https://colab.research.google.com/github/vrishi220/MachineLearning/blob/master/MLhw1prob4.ipynb\" target=\"_parent\"><img src=\"https://colab.research.google.com/assets/colab-badge.svg\" alt=\"Open In Colab\"/></a>"
      ]
    },
    {
      "metadata": {
        "id": "HGhS1QKf1VBZ",
        "colab_type": "code",
        "outputId": "ec1e2c44-8791-497b-fa5d-a3a0a0f26d75",
        "colab": {
          "base_uri": "https://localhost:8080/",
          "height": 1924
        }
      },
      "cell_type": "code",
      "source": [
        "from keras.datasets import mnist\n",
        "from keras.layers import Dense, Activation\n",
        "from keras.models import Sequential\n",
        "from keras.utils import np_utils\n",
        "\n",
        "(X_train, y_train), (X_test, y_test) = mnist.load_data()\n",
        "output_size, classes_size, num_epoch, batch_size, input_size  = 10, 10, 50, 50, 28**2\n",
        "X_train, X_test = X_train.reshape(X_train.shape[0], input_size).astype('float32')/255, X_test.reshape(X_test.shape[0], input_size).astype('float32')/255\n",
        "Y_train, Y_test = np_utils.to_categorical(y_train, classes_size), np_utils.to_categorical(y_test, classes_size)\n",
        "model = Sequential()\n",
        "model.add(Dense(output_size, input_dim = input_size, activation = 'softmax'))\n",
        "model.compile(optimizer = 'sgd', loss = 'categorical_crossentropy', metrics = ['accuracy'])\n",
        "model.fit(X_train, Y_train, batch_size = batch_size, nb_epoch = num_epoch, verbose = 2, validation_data = (X_test, Y_test))\n",
        "print('Accuracy: {}%'.format(model.evaluate(X_test, Y_test, verbose = 2)[1]*100))"
      ],
      "execution_count": 1,
      "outputs": [
        {
          "output_type": "stream",
          "text": [
            "Using TensorFlow backend.\n"
          ],
          "name": "stderr"
        },
        {
          "output_type": "stream",
          "text": [
            "WARNING:tensorflow:From /usr/local/lib/python3.6/dist-packages/tensorflow/python/framework/op_def_library.py:263: colocate_with (from tensorflow.python.framework.ops) is deprecated and will be removed in a future version.\n",
            "Instructions for updating:\n",
            "Colocations handled automatically by placer.\n",
            "WARNING:tensorflow:From /usr/local/lib/python3.6/dist-packages/tensorflow/python/ops/math_ops.py:3066: to_int32 (from tensorflow.python.ops.math_ops) is deprecated and will be removed in a future version.\n",
            "Instructions for updating:\n",
            "Use tf.cast instead.\n"
          ],
          "name": "stdout"
        },
        {
          "output_type": "stream",
          "text": [
            "/usr/local/lib/python3.6/dist-packages/ipykernel_launcher.py:13: UserWarning: The `nb_epoch` argument in `fit` has been renamed `epochs`.\n",
            "  del sys.path[0]\n"
          ],
          "name": "stderr"
        },
        {
          "output_type": "stream",
          "text": [
            "Train on 60000 samples, validate on 10000 samples\n",
            "Epoch 1/50\n",
            " - 2s - loss: 0.9186 - acc: 0.7847 - val_loss: 0.5518 - val_acc: 0.8680\n",
            "Epoch 2/50\n",
            " - 2s - loss: 0.5139 - acc: 0.8711 - val_loss: 0.4450 - val_acc: 0.8869\n",
            "Epoch 3/50\n",
            " - 2s - loss: 0.4447 - acc: 0.8834 - val_loss: 0.4028 - val_acc: 0.8938\n",
            "Epoch 4/50\n",
            " - 2s - loss: 0.4109 - acc: 0.8893 - val_loss: 0.3782 - val_acc: 0.8993\n",
            "Epoch 5/50\n",
            " - 2s - loss: 0.3897 - acc: 0.8944 - val_loss: 0.3626 - val_acc: 0.9024\n",
            "Epoch 6/50\n",
            " - 2s - loss: 0.3749 - acc: 0.8974 - val_loss: 0.3504 - val_acc: 0.9059\n",
            "Epoch 7/50\n",
            " - 2s - loss: 0.3638 - acc: 0.8999 - val_loss: 0.3417 - val_acc: 0.9069\n",
            "Epoch 8/50\n",
            " - 2s - loss: 0.3549 - acc: 0.9021 - val_loss: 0.3344 - val_acc: 0.9076\n",
            "Epoch 9/50\n",
            " - 2s - loss: 0.3478 - acc: 0.9038 - val_loss: 0.3284 - val_acc: 0.9095\n",
            "Epoch 10/50\n",
            " - 2s - loss: 0.3417 - acc: 0.9055 - val_loss: 0.3238 - val_acc: 0.9103\n",
            "Epoch 11/50\n",
            " - 2s - loss: 0.3365 - acc: 0.9067 - val_loss: 0.3195 - val_acc: 0.9120\n",
            "Epoch 12/50\n",
            " - 2s - loss: 0.3321 - acc: 0.9078 - val_loss: 0.3160 - val_acc: 0.9123\n",
            "Epoch 13/50\n",
            " - 2s - loss: 0.3280 - acc: 0.9085 - val_loss: 0.3130 - val_acc: 0.9134\n",
            "Epoch 14/50\n",
            " - 2s - loss: 0.3246 - acc: 0.9094 - val_loss: 0.3099 - val_acc: 0.9152\n",
            "Epoch 15/50\n",
            " - 2s - loss: 0.3214 - acc: 0.9109 - val_loss: 0.3080 - val_acc: 0.9149\n",
            "Epoch 16/50\n",
            " - 2s - loss: 0.3186 - acc: 0.9112 - val_loss: 0.3054 - val_acc: 0.9156\n",
            "Epoch 17/50\n",
            " - 2s - loss: 0.3160 - acc: 0.9117 - val_loss: 0.3036 - val_acc: 0.9172\n",
            "Epoch 18/50\n",
            " - 2s - loss: 0.3137 - acc: 0.9127 - val_loss: 0.3016 - val_acc: 0.9173\n",
            "Epoch 19/50\n",
            " - 2s - loss: 0.3114 - acc: 0.9131 - val_loss: 0.3003 - val_acc: 0.9168\n",
            "Epoch 20/50\n",
            " - 2s - loss: 0.3094 - acc: 0.9141 - val_loss: 0.2991 - val_acc: 0.9181\n",
            "Epoch 21/50\n",
            " - 2s - loss: 0.3076 - acc: 0.9145 - val_loss: 0.2971 - val_acc: 0.9182\n",
            "Epoch 22/50\n",
            " - 2s - loss: 0.3058 - acc: 0.9148 - val_loss: 0.2957 - val_acc: 0.9176\n",
            "Epoch 23/50\n",
            " - 2s - loss: 0.3042 - acc: 0.9150 - val_loss: 0.2948 - val_acc: 0.9184\n",
            "Epoch 24/50\n",
            " - 2s - loss: 0.3027 - acc: 0.9159 - val_loss: 0.2938 - val_acc: 0.9195\n",
            "Epoch 25/50\n",
            " - 2s - loss: 0.3013 - acc: 0.9161 - val_loss: 0.2921 - val_acc: 0.9184\n",
            "Epoch 26/50\n",
            " - 2s - loss: 0.3000 - acc: 0.9165 - val_loss: 0.2912 - val_acc: 0.9189\n",
            "Epoch 27/50\n",
            " - 2s - loss: 0.2987 - acc: 0.9165 - val_loss: 0.2907 - val_acc: 0.9198\n",
            "Epoch 28/50\n",
            " - 2s - loss: 0.2975 - acc: 0.9170 - val_loss: 0.2899 - val_acc: 0.9190\n",
            "Epoch 29/50\n",
            " - 2s - loss: 0.2963 - acc: 0.9171 - val_loss: 0.2889 - val_acc: 0.9199\n",
            "Epoch 30/50\n",
            " - 2s - loss: 0.2953 - acc: 0.9175 - val_loss: 0.2881 - val_acc: 0.9196\n",
            "Epoch 31/50\n",
            " - 2s - loss: 0.2942 - acc: 0.9180 - val_loss: 0.2882 - val_acc: 0.9201\n",
            "Epoch 32/50\n",
            " - 2s - loss: 0.2932 - acc: 0.9179 - val_loss: 0.2865 - val_acc: 0.9207\n",
            "Epoch 33/50\n",
            " - 2s - loss: 0.2922 - acc: 0.9182 - val_loss: 0.2867 - val_acc: 0.9206\n",
            "Epoch 34/50\n",
            " - 2s - loss: 0.2913 - acc: 0.9185 - val_loss: 0.2860 - val_acc: 0.9201\n",
            "Epoch 35/50\n",
            " - 2s - loss: 0.2905 - acc: 0.9191 - val_loss: 0.2855 - val_acc: 0.9203\n",
            "Epoch 36/50\n",
            " - 2s - loss: 0.2896 - acc: 0.9194 - val_loss: 0.2845 - val_acc: 0.9213\n",
            "Epoch 37/50\n",
            " - 2s - loss: 0.2889 - acc: 0.9193 - val_loss: 0.2837 - val_acc: 0.9214\n",
            "Epoch 38/50\n",
            " - 2s - loss: 0.2881 - acc: 0.9195 - val_loss: 0.2839 - val_acc: 0.9204\n",
            "Epoch 39/50\n",
            " - 2s - loss: 0.2873 - acc: 0.9196 - val_loss: 0.2830 - val_acc: 0.9206\n",
            "Epoch 40/50\n",
            " - 2s - loss: 0.2867 - acc: 0.9203 - val_loss: 0.2827 - val_acc: 0.9200\n",
            "Epoch 41/50\n",
            " - 2s - loss: 0.2859 - acc: 0.9205 - val_loss: 0.2818 - val_acc: 0.9214\n",
            "Epoch 42/50\n",
            " - 2s - loss: 0.2852 - acc: 0.9208 - val_loss: 0.2819 - val_acc: 0.9208\n",
            "Epoch 43/50\n",
            " - 2s - loss: 0.2847 - acc: 0.9208 - val_loss: 0.2813 - val_acc: 0.9205\n",
            "Epoch 44/50\n",
            " - 2s - loss: 0.2840 - acc: 0.9206 - val_loss: 0.2813 - val_acc: 0.9212\n",
            "Epoch 45/50\n",
            " - 2s - loss: 0.2835 - acc: 0.9207 - val_loss: 0.2804 - val_acc: 0.9208\n",
            "Epoch 46/50\n",
            " - 2s - loss: 0.2828 - acc: 0.9213 - val_loss: 0.2802 - val_acc: 0.9216\n",
            "Epoch 47/50\n",
            " - 2s - loss: 0.2822 - acc: 0.9215 - val_loss: 0.2802 - val_acc: 0.9212\n",
            "Epoch 48/50\n",
            " - 2s - loss: 0.2817 - acc: 0.9215 - val_loss: 0.2793 - val_acc: 0.9213\n",
            "Epoch 49/50\n",
            " - 2s - loss: 0.2811 - acc: 0.9215 - val_loss: 0.2799 - val_acc: 0.9212\n",
            "Epoch 50/50\n",
            " - 2s - loss: 0.2807 - acc: 0.9222 - val_loss: 0.2792 - val_acc: 0.9212\n",
            "Accuracy: 92.12%\n"
          ],
          "name": "stdout"
        }
      ]
    }
  ]
}